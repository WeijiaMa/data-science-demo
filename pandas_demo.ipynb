{
 "cells": [
  {
   "cell_type": "markdown",
   "metadata": {},
   "source": [
    "# Sleep Stats\n",
    "\n",
    "> Dustin Michels<br>\n",
    "> August 2017, CC"
   ]
  },
  {
   "cell_type": "code",
   "execution_count": 1,
   "metadata": {
    "collapsed": true
   },
   "outputs": [],
   "source": [
    "import numpy as np\n",
    "import pandas as pd\n",
    "import matplotlib.pyplot as plt\n",
    "import seaborn as sns; sns.set()"
   ]
  },
  {
   "cell_type": "markdown",
   "metadata": {},
   "source": [
    "---\n",
    "\n",
    "## I. Load & Examine the Data"
   ]
  },
  {
   "cell_type": "code",
   "execution_count": 2,
   "metadata": {
    "collapsed": true
   },
   "outputs": [],
   "source": [
    "# Use pandas.read_csv()\n",
    "df = pd.read_csv('data.csv')"
   ]
  },
  {
   "cell_type": "code",
   "execution_count": 3,
   "metadata": {
    "scrolled": false
   },
   "outputs": [
    {
     "data": {
      "text/html": [
       "<div>\n",
       "<style>\n",
       "    .dataframe thead tr:only-child th {\n",
       "        text-align: right;\n",
       "    }\n",
       "\n",
       "    .dataframe thead th {\n",
       "        text-align: left;\n",
       "    }\n",
       "\n",
       "    .dataframe tbody tr th {\n",
       "        vertical-align: top;\n",
       "    }\n",
       "</style>\n",
       "<table border=\"1\" class=\"dataframe\">\n",
       "  <thead>\n",
       "    <tr style=\"text-align: right;\">\n",
       "      <th></th>\n",
       "      <th>id</th>\n",
       "      <th>tz</th>\n",
       "      <th>from</th>\n",
       "      <th>to</th>\n",
       "      <th>hours</th>\n",
       "    </tr>\n",
       "  </thead>\n",
       "  <tbody>\n",
       "    <tr>\n",
       "      <th>0</th>\n",
       "      <td>1476573086157</td>\n",
       "      <td>Europe/Stockholm</td>\n",
       "      <td>16. 10. 2016 1:11</td>\n",
       "      <td>16. 10. 2016 8:38</td>\n",
       "      <td>7.46</td>\n",
       "    </tr>\n",
       "    <tr>\n",
       "      <th>1</th>\n",
       "      <td>1476658846218</td>\n",
       "      <td>Europe/Stockholm</td>\n",
       "      <td>17. 10. 2016 1:00</td>\n",
       "      <td>17. 10. 2016 5:30</td>\n",
       "      <td>4.50</td>\n",
       "    </tr>\n",
       "    <tr>\n",
       "      <th>2</th>\n",
       "      <td>1476679063263</td>\n",
       "      <td>Europe/Stockholm</td>\n",
       "      <td>17. 10. 2016 6:37</td>\n",
       "      <td>17. 10. 2016 8:33</td>\n",
       "      <td>1.93</td>\n",
       "    </tr>\n",
       "    <tr>\n",
       "      <th>3</th>\n",
       "      <td>1476742483671</td>\n",
       "      <td>Europe/Stockholm</td>\n",
       "      <td>18. 10. 2016 0:14</td>\n",
       "      <td>18. 10. 2016 7:28</td>\n",
       "      <td>7.24</td>\n",
       "    </tr>\n",
       "    <tr>\n",
       "      <th>4</th>\n",
       "      <td>1476827086302</td>\n",
       "      <td>Europe/Stockholm</td>\n",
       "      <td>18. 10. 2016 23:44</td>\n",
       "      <td>19. 10. 2016 5:31</td>\n",
       "      <td>5.78</td>\n",
       "    </tr>\n",
       "    <tr>\n",
       "      <th>5</th>\n",
       "      <td>1476848514023</td>\n",
       "      <td>Europe/Stockholm</td>\n",
       "      <td>19. 10. 2016 5:41</td>\n",
       "      <td>19. 10. 2016 5:54</td>\n",
       "      <td>0.22</td>\n",
       "    </tr>\n",
       "    <tr>\n",
       "      <th>6</th>\n",
       "      <td>1476999888240</td>\n",
       "      <td>Europe/Stockholm</td>\n",
       "      <td>20. 10. 2016 23:44</td>\n",
       "      <td>21. 10. 2016 5:38</td>\n",
       "      <td>5.90</td>\n",
       "    </tr>\n",
       "    <tr>\n",
       "      <th>7</th>\n",
       "      <td>1477021133168</td>\n",
       "      <td>Europe/Stockholm</td>\n",
       "      <td>21. 10. 2016 5:38</td>\n",
       "      <td>21. 10. 2016 7:28</td>\n",
       "      <td>1.82</td>\n",
       "    </tr>\n",
       "    <tr>\n",
       "      <th>8</th>\n",
       "      <td>1477101389293</td>\n",
       "      <td>Europe/Stockholm</td>\n",
       "      <td>22. 10. 2016 3:56</td>\n",
       "      <td>22. 10. 2016 11:11</td>\n",
       "      <td>7.26</td>\n",
       "    </tr>\n",
       "    <tr>\n",
       "      <th>9</th>\n",
       "      <td>1477177187404</td>\n",
       "      <td>Europe/Stockholm</td>\n",
       "      <td>23. 10. 2016 0:59</td>\n",
       "      <td>23. 10. 2016 8:01</td>\n",
       "      <td>7.02</td>\n",
       "    </tr>\n",
       "  </tbody>\n",
       "</table>\n",
       "</div>"
      ],
      "text/plain": [
       "              id                tz                from                  to  \\\n",
       "0  1476573086157  Europe/Stockholm   16. 10. 2016 1:11   16. 10. 2016 8:38   \n",
       "1  1476658846218  Europe/Stockholm   17. 10. 2016 1:00   17. 10. 2016 5:30   \n",
       "2  1476679063263  Europe/Stockholm   17. 10. 2016 6:37   17. 10. 2016 8:33   \n",
       "3  1476742483671  Europe/Stockholm   18. 10. 2016 0:14   18. 10. 2016 7:28   \n",
       "4  1476827086302  Europe/Stockholm  18. 10. 2016 23:44   19. 10. 2016 5:31   \n",
       "5  1476848514023  Europe/Stockholm   19. 10. 2016 5:41   19. 10. 2016 5:54   \n",
       "6  1476999888240  Europe/Stockholm  20. 10. 2016 23:44   21. 10. 2016 5:38   \n",
       "7  1477021133168  Europe/Stockholm   21. 10. 2016 5:38   21. 10. 2016 7:28   \n",
       "8  1477101389293  Europe/Stockholm   22. 10. 2016 3:56  22. 10. 2016 11:11   \n",
       "9  1477177187404  Europe/Stockholm   23. 10. 2016 0:59   23. 10. 2016 8:01   \n",
       "\n",
       "   hours  \n",
       "0   7.46  \n",
       "1   4.50  \n",
       "2   1.93  \n",
       "3   7.24  \n",
       "4   5.78  \n",
       "5   0.22  \n",
       "6   5.90  \n",
       "7   1.82  \n",
       "8   7.26  \n",
       "9   7.02  "
      ]
     },
     "execution_count": 3,
     "metadata": {},
     "output_type": "execute_result"
    }
   ],
   "source": [
    "# This is what the first 10 rows look like.\n",
    "df.head(10)"
   ]
  },
  {
   "cell_type": "markdown",
   "metadata": {},
   "source": [
    "---\n",
    "\n",
    "## II. Make the `from` and `to` fields into datetime objects\n",
    "\n",
    "The `From` and `To` fields hold awkwardly formatted strings, which are not very useful. They should be datetime objects, so we can perform opertaions on them."
   ]
  },
  {
   "cell_type": "code",
   "execution_count": 4,
   "metadata": {
    "collapsed": true
   },
   "outputs": [],
   "source": [
    "# Use pandas.to_datetime(), indicating the day comes before the month\n",
    "df['from'] = pd.to_datetime(df['from'], dayfirst=True)\n",
    "df['to'] = pd.to_datetime(df['to'], dayfirst=True)"
   ]
  },
  {
   "cell_type": "code",
   "execution_count": 5,
   "metadata": {
    "scrolled": true
   },
   "outputs": [
    {
     "data": {
      "text/plain": [
       "Timestamp('2016-10-16 01:11:00')"
      ]
     },
     "execution_count": 5,
     "metadata": {},
     "output_type": "execute_result"
    }
   ],
   "source": [
    "# Hey, works perfectly!\n",
    "df.loc[0, 'from']"
   ]
  },
  {
   "cell_type": "code",
   "execution_count": 6,
   "metadata": {},
   "outputs": [
    {
     "data": {
      "text/html": [
       "<div>\n",
       "<style>\n",
       "    .dataframe thead tr:only-child th {\n",
       "        text-align: right;\n",
       "    }\n",
       "\n",
       "    .dataframe thead th {\n",
       "        text-align: left;\n",
       "    }\n",
       "\n",
       "    .dataframe tbody tr th {\n",
       "        vertical-align: top;\n",
       "    }\n",
       "</style>\n",
       "<table border=\"1\" class=\"dataframe\">\n",
       "  <thead>\n",
       "    <tr style=\"text-align: right;\">\n",
       "      <th></th>\n",
       "      <th>id</th>\n",
       "      <th>tz</th>\n",
       "      <th>from</th>\n",
       "      <th>to</th>\n",
       "      <th>hours</th>\n",
       "    </tr>\n",
       "  </thead>\n",
       "  <tbody>\n",
       "    <tr>\n",
       "      <th>0</th>\n",
       "      <td>1476573086157</td>\n",
       "      <td>Europe/Stockholm</td>\n",
       "      <td>2016-10-16 01:11:00</td>\n",
       "      <td>2016-10-16 08:38:00</td>\n",
       "      <td>7.46</td>\n",
       "    </tr>\n",
       "    <tr>\n",
       "      <th>1</th>\n",
       "      <td>1476658846218</td>\n",
       "      <td>Europe/Stockholm</td>\n",
       "      <td>2016-10-17 01:00:00</td>\n",
       "      <td>2016-10-17 05:30:00</td>\n",
       "      <td>4.50</td>\n",
       "    </tr>\n",
       "    <tr>\n",
       "      <th>2</th>\n",
       "      <td>1476679063263</td>\n",
       "      <td>Europe/Stockholm</td>\n",
       "      <td>2016-10-17 06:37:00</td>\n",
       "      <td>2016-10-17 08:33:00</td>\n",
       "      <td>1.93</td>\n",
       "    </tr>\n",
       "    <tr>\n",
       "      <th>3</th>\n",
       "      <td>1476742483671</td>\n",
       "      <td>Europe/Stockholm</td>\n",
       "      <td>2016-10-18 00:14:00</td>\n",
       "      <td>2016-10-18 07:28:00</td>\n",
       "      <td>7.24</td>\n",
       "    </tr>\n",
       "    <tr>\n",
       "      <th>4</th>\n",
       "      <td>1476827086302</td>\n",
       "      <td>Europe/Stockholm</td>\n",
       "      <td>2016-10-18 23:44:00</td>\n",
       "      <td>2016-10-19 05:31:00</td>\n",
       "      <td>5.78</td>\n",
       "    </tr>\n",
       "  </tbody>\n",
       "</table>\n",
       "</div>"
      ],
      "text/plain": [
       "              id                tz                from                  to  \\\n",
       "0  1476573086157  Europe/Stockholm 2016-10-16 01:11:00 2016-10-16 08:38:00   \n",
       "1  1476658846218  Europe/Stockholm 2016-10-17 01:00:00 2016-10-17 05:30:00   \n",
       "2  1476679063263  Europe/Stockholm 2016-10-17 06:37:00 2016-10-17 08:33:00   \n",
       "3  1476742483671  Europe/Stockholm 2016-10-18 00:14:00 2016-10-18 07:28:00   \n",
       "4  1476827086302  Europe/Stockholm 2016-10-18 23:44:00 2016-10-19 05:31:00   \n",
       "\n",
       "   hours  \n",
       "0   7.46  \n",
       "1   4.50  \n",
       "2   1.93  \n",
       "3   7.24  \n",
       "4   5.78  "
      ]
     },
     "execution_count": 6,
     "metadata": {},
     "output_type": "execute_result"
    }
   ],
   "source": [
    "df.head()"
   ]
  },
  {
   "cell_type": "markdown",
   "metadata": {},
   "source": [
    "---\n",
    "## III.  Consolidate Fragmented Entries\n",
    "\n",
    "I notice some nights are broken into multiple entries. For example, in rows 2-3 above, I logged sleep from `1:00am-5:30am`, then again from `6:37am-8:33am.` I want to sum these durations together before I try calculating something like 'mean hours of sleep per night.'"
   ]
  },
  {
   "cell_type": "code",
   "execution_count": 7,
   "metadata": {},
   "outputs": [
    {
     "data": {
      "text/plain": [
       "6.7070044052863445"
      ]
     },
     "execution_count": 7,
     "metadata": {},
     "output_type": "execute_result"
    }
   ],
   "source": [
    "# The raw mean:\n",
    "df.hours.mean()"
   ]
  },
  {
   "cell_type": "code",
   "execution_count": 8,
   "metadata": {
    "collapsed": true
   },
   "outputs": [],
   "source": [
    "# 6.7 hours / night is probably an underestimate,\n",
    "# due to nights broken into multiple entries."
   ]
  },
  {
   "cell_type": "markdown",
   "metadata": {},
   "source": [
    "### First, add  `date` column\n",
    "\n",
    "First, add a 'date' field, which best reflects the overall date for the entry. Since I might fall asleep before or after midnight (ie, the `from` field is inconsistant), I think sleep date is best given by 'wake up date - 1 day'"
   ]
  },
  {
   "cell_type": "code",
   "execution_count": 9,
   "metadata": {
    "collapsed": true
   },
   "outputs": [],
   "source": [
    "# Use 'apply', providing pandas.datetime.date() as the function,\n",
    "# to transform the to field ino the date column.\n",
    "# Use 'pandas.DateOffset()' to subtract a day\n",
    "\n",
    "df['date'] = df.to.apply(pd.datetime.date)\n",
    "df['date'] = df['date'] - pd.DateOffset()"
   ]
  },
  {
   "cell_type": "code",
   "execution_count": 10,
   "metadata": {
    "scrolled": true
   },
   "outputs": [
    {
     "data": {
      "text/html": [
       "<div>\n",
       "<style>\n",
       "    .dataframe thead tr:only-child th {\n",
       "        text-align: right;\n",
       "    }\n",
       "\n",
       "    .dataframe thead th {\n",
       "        text-align: left;\n",
       "    }\n",
       "\n",
       "    .dataframe tbody tr th {\n",
       "        vertical-align: top;\n",
       "    }\n",
       "</style>\n",
       "<table border=\"1\" class=\"dataframe\">\n",
       "  <thead>\n",
       "    <tr style=\"text-align: right;\">\n",
       "      <th></th>\n",
       "      <th>id</th>\n",
       "      <th>tz</th>\n",
       "      <th>from</th>\n",
       "      <th>to</th>\n",
       "      <th>hours</th>\n",
       "      <th>date</th>\n",
       "    </tr>\n",
       "  </thead>\n",
       "  <tbody>\n",
       "    <tr>\n",
       "      <th>0</th>\n",
       "      <td>1476573086157</td>\n",
       "      <td>Europe/Stockholm</td>\n",
       "      <td>2016-10-16 01:11:00</td>\n",
       "      <td>2016-10-16 08:38:00</td>\n",
       "      <td>7.46</td>\n",
       "      <td>2016-10-15</td>\n",
       "    </tr>\n",
       "    <tr>\n",
       "      <th>1</th>\n",
       "      <td>1476658846218</td>\n",
       "      <td>Europe/Stockholm</td>\n",
       "      <td>2016-10-17 01:00:00</td>\n",
       "      <td>2016-10-17 05:30:00</td>\n",
       "      <td>4.50</td>\n",
       "      <td>2016-10-16</td>\n",
       "    </tr>\n",
       "    <tr>\n",
       "      <th>2</th>\n",
       "      <td>1476679063263</td>\n",
       "      <td>Europe/Stockholm</td>\n",
       "      <td>2016-10-17 06:37:00</td>\n",
       "      <td>2016-10-17 08:33:00</td>\n",
       "      <td>1.93</td>\n",
       "      <td>2016-10-16</td>\n",
       "    </tr>\n",
       "    <tr>\n",
       "      <th>3</th>\n",
       "      <td>1476742483671</td>\n",
       "      <td>Europe/Stockholm</td>\n",
       "      <td>2016-10-18 00:14:00</td>\n",
       "      <td>2016-10-18 07:28:00</td>\n",
       "      <td>7.24</td>\n",
       "      <td>2016-10-17</td>\n",
       "    </tr>\n",
       "    <tr>\n",
       "      <th>4</th>\n",
       "      <td>1476827086302</td>\n",
       "      <td>Europe/Stockholm</td>\n",
       "      <td>2016-10-18 23:44:00</td>\n",
       "      <td>2016-10-19 05:31:00</td>\n",
       "      <td>5.78</td>\n",
       "      <td>2016-10-18</td>\n",
       "    </tr>\n",
       "    <tr>\n",
       "      <th>5</th>\n",
       "      <td>1476848514023</td>\n",
       "      <td>Europe/Stockholm</td>\n",
       "      <td>2016-10-19 05:41:00</td>\n",
       "      <td>2016-10-19 05:54:00</td>\n",
       "      <td>0.22</td>\n",
       "      <td>2016-10-18</td>\n",
       "    </tr>\n",
       "    <tr>\n",
       "      <th>6</th>\n",
       "      <td>1476999888240</td>\n",
       "      <td>Europe/Stockholm</td>\n",
       "      <td>2016-10-20 23:44:00</td>\n",
       "      <td>2016-10-21 05:38:00</td>\n",
       "      <td>5.90</td>\n",
       "      <td>2016-10-20</td>\n",
       "    </tr>\n",
       "    <tr>\n",
       "      <th>7</th>\n",
       "      <td>1477021133168</td>\n",
       "      <td>Europe/Stockholm</td>\n",
       "      <td>2016-10-21 05:38:00</td>\n",
       "      <td>2016-10-21 07:28:00</td>\n",
       "      <td>1.82</td>\n",
       "      <td>2016-10-20</td>\n",
       "    </tr>\n",
       "    <tr>\n",
       "      <th>8</th>\n",
       "      <td>1477101389293</td>\n",
       "      <td>Europe/Stockholm</td>\n",
       "      <td>2016-10-22 03:56:00</td>\n",
       "      <td>2016-10-22 11:11:00</td>\n",
       "      <td>7.26</td>\n",
       "      <td>2016-10-21</td>\n",
       "    </tr>\n",
       "    <tr>\n",
       "      <th>9</th>\n",
       "      <td>1477177187404</td>\n",
       "      <td>Europe/Stockholm</td>\n",
       "      <td>2016-10-23 00:59:00</td>\n",
       "      <td>2016-10-23 08:01:00</td>\n",
       "      <td>7.02</td>\n",
       "      <td>2016-10-22</td>\n",
       "    </tr>\n",
       "  </tbody>\n",
       "</table>\n",
       "</div>"
      ],
      "text/plain": [
       "              id                tz                from                  to  \\\n",
       "0  1476573086157  Europe/Stockholm 2016-10-16 01:11:00 2016-10-16 08:38:00   \n",
       "1  1476658846218  Europe/Stockholm 2016-10-17 01:00:00 2016-10-17 05:30:00   \n",
       "2  1476679063263  Europe/Stockholm 2016-10-17 06:37:00 2016-10-17 08:33:00   \n",
       "3  1476742483671  Europe/Stockholm 2016-10-18 00:14:00 2016-10-18 07:28:00   \n",
       "4  1476827086302  Europe/Stockholm 2016-10-18 23:44:00 2016-10-19 05:31:00   \n",
       "5  1476848514023  Europe/Stockholm 2016-10-19 05:41:00 2016-10-19 05:54:00   \n",
       "6  1476999888240  Europe/Stockholm 2016-10-20 23:44:00 2016-10-21 05:38:00   \n",
       "7  1477021133168  Europe/Stockholm 2016-10-21 05:38:00 2016-10-21 07:28:00   \n",
       "8  1477101389293  Europe/Stockholm 2016-10-22 03:56:00 2016-10-22 11:11:00   \n",
       "9  1477177187404  Europe/Stockholm 2016-10-23 00:59:00 2016-10-23 08:01:00   \n",
       "\n",
       "   hours       date  \n",
       "0   7.46 2016-10-15  \n",
       "1   4.50 2016-10-16  \n",
       "2   1.93 2016-10-16  \n",
       "3   7.24 2016-10-17  \n",
       "4   5.78 2016-10-18  \n",
       "5   0.22 2016-10-18  \n",
       "6   5.90 2016-10-20  \n",
       "7   1.82 2016-10-20  \n",
       "8   7.26 2016-10-21  \n",
       "9   7.02 2016-10-22  "
      ]
     },
     "execution_count": 10,
     "metadata": {},
     "output_type": "execute_result"
    }
   ],
   "source": [
    "df.head(10)"
   ]
  },
  {
   "cell_type": "markdown",
   "metadata": {},
   "source": [
    "### Next, group by `date` and deal with repeats"
   ]
  },
  {
   "cell_type": "code",
   "execution_count": 11,
   "metadata": {},
   "outputs": [],
   "source": [
    "# Next, we want to group entries by date.\n",
    "g = df.groupby('date')"
   ]
  },
  {
   "cell_type": "code",
   "execution_count": 12,
   "metadata": {
    "scrolled": true
   },
   "outputs": [
    {
     "data": {
      "text/html": [
       "<div>\n",
       "<style>\n",
       "    .dataframe thead tr:only-child th {\n",
       "        text-align: right;\n",
       "    }\n",
       "\n",
       "    .dataframe thead th {\n",
       "        text-align: left;\n",
       "    }\n",
       "\n",
       "    .dataframe tbody tr th {\n",
       "        vertical-align: top;\n",
       "    }\n",
       "</style>\n",
       "<table border=\"1\" class=\"dataframe\">\n",
       "  <thead>\n",
       "    <tr style=\"text-align: right;\">\n",
       "      <th></th>\n",
       "      <th>id</th>\n",
       "      <th>tz</th>\n",
       "      <th>from</th>\n",
       "      <th>to</th>\n",
       "      <th>hours</th>\n",
       "    </tr>\n",
       "    <tr>\n",
       "      <th>date</th>\n",
       "      <th></th>\n",
       "      <th></th>\n",
       "      <th></th>\n",
       "      <th></th>\n",
       "      <th></th>\n",
       "    </tr>\n",
       "  </thead>\n",
       "  <tbody>\n",
       "    <tr>\n",
       "      <th>2016-10-15</th>\n",
       "      <td>1</td>\n",
       "      <td>1</td>\n",
       "      <td>1</td>\n",
       "      <td>1</td>\n",
       "      <td>1</td>\n",
       "    </tr>\n",
       "    <tr>\n",
       "      <th>2016-10-16</th>\n",
       "      <td>2</td>\n",
       "      <td>2</td>\n",
       "      <td>2</td>\n",
       "      <td>2</td>\n",
       "      <td>2</td>\n",
       "    </tr>\n",
       "    <tr>\n",
       "      <th>2016-10-17</th>\n",
       "      <td>1</td>\n",
       "      <td>1</td>\n",
       "      <td>1</td>\n",
       "      <td>1</td>\n",
       "      <td>1</td>\n",
       "    </tr>\n",
       "    <tr>\n",
       "      <th>2016-10-18</th>\n",
       "      <td>2</td>\n",
       "      <td>2</td>\n",
       "      <td>2</td>\n",
       "      <td>2</td>\n",
       "      <td>2</td>\n",
       "    </tr>\n",
       "    <tr>\n",
       "      <th>2016-10-20</th>\n",
       "      <td>2</td>\n",
       "      <td>2</td>\n",
       "      <td>2</td>\n",
       "      <td>2</td>\n",
       "      <td>2</td>\n",
       "    </tr>\n",
       "    <tr>\n",
       "      <th>2016-10-21</th>\n",
       "      <td>1</td>\n",
       "      <td>1</td>\n",
       "      <td>1</td>\n",
       "      <td>1</td>\n",
       "      <td>1</td>\n",
       "    </tr>\n",
       "    <tr>\n",
       "      <th>2016-10-22</th>\n",
       "      <td>1</td>\n",
       "      <td>1</td>\n",
       "      <td>1</td>\n",
       "      <td>1</td>\n",
       "      <td>1</td>\n",
       "    </tr>\n",
       "    <tr>\n",
       "      <th>2016-10-23</th>\n",
       "      <td>1</td>\n",
       "      <td>1</td>\n",
       "      <td>1</td>\n",
       "      <td>1</td>\n",
       "      <td>1</td>\n",
       "    </tr>\n",
       "    <tr>\n",
       "      <th>2016-10-24</th>\n",
       "      <td>1</td>\n",
       "      <td>1</td>\n",
       "      <td>1</td>\n",
       "      <td>1</td>\n",
       "      <td>1</td>\n",
       "    </tr>\n",
       "    <tr>\n",
       "      <th>2016-10-25</th>\n",
       "      <td>2</td>\n",
       "      <td>2</td>\n",
       "      <td>2</td>\n",
       "      <td>2</td>\n",
       "      <td>2</td>\n",
       "    </tr>\n",
       "  </tbody>\n",
       "</table>\n",
       "</div>"
      ],
      "text/plain": [
       "            id  tz  from  to  hours\n",
       "date                               \n",
       "2016-10-15   1   1     1   1      1\n",
       "2016-10-16   2   2     2   2      2\n",
       "2016-10-17   1   1     1   1      1\n",
       "2016-10-18   2   2     2   2      2\n",
       "2016-10-20   2   2     2   2      2\n",
       "2016-10-21   1   1     1   1      1\n",
       "2016-10-22   1   1     1   1      1\n",
       "2016-10-23   1   1     1   1      1\n",
       "2016-10-24   1   1     1   1      1\n",
       "2016-10-25   2   2     2   2      2"
      ]
     },
     "execution_count": 12,
     "metadata": {},
     "output_type": "execute_result"
    }
   ],
   "source": [
    "# Some nights have entries, while others have one.\n",
    "g.count().head(10)"
   ]
  },
  {
   "cell_type": "code",
   "execution_count": 13,
   "metadata": {
    "collapsed": true
   },
   "outputs": [],
   "source": [
    "# To squash these entries into a one night,\n",
    "# we define what to do with each column.\n",
    "\n",
    "df = g.aggregate({\n",
    "    'tz':'first',\n",
    "    'from':'first',\n",
    "    'to':'last',\n",
    "    'hours':'sum'\n",
    "})"
   ]
  },
  {
   "cell_type": "markdown",
   "metadata": {},
   "source": [
    "Now, `to` reflects initial fall asleep time, and `from` reflects ultimate wake up time.<br>\n",
    "*NOTE:* There may or may not be a gap in between these times. Thus, the duration between `from` and `to` may have diverged from the actual # hours, given by the `hours` column."
   ]
  },
  {
   "cell_type": "code",
   "execution_count": 14,
   "metadata": {
    "scrolled": true
   },
   "outputs": [
    {
     "data": {
      "text/html": [
       "<div>\n",
       "<style>\n",
       "    .dataframe thead tr:only-child th {\n",
       "        text-align: right;\n",
       "    }\n",
       "\n",
       "    .dataframe thead th {\n",
       "        text-align: left;\n",
       "    }\n",
       "\n",
       "    .dataframe tbody tr th {\n",
       "        vertical-align: top;\n",
       "    }\n",
       "</style>\n",
       "<table border=\"1\" class=\"dataframe\">\n",
       "  <thead>\n",
       "    <tr style=\"text-align: right;\">\n",
       "      <th></th>\n",
       "      <th>tz</th>\n",
       "      <th>from</th>\n",
       "      <th>to</th>\n",
       "      <th>hours</th>\n",
       "    </tr>\n",
       "    <tr>\n",
       "      <th>date</th>\n",
       "      <th></th>\n",
       "      <th></th>\n",
       "      <th></th>\n",
       "      <th></th>\n",
       "    </tr>\n",
       "  </thead>\n",
       "  <tbody>\n",
       "    <tr>\n",
       "      <th>2016-10-15</th>\n",
       "      <td>Europe/Stockholm</td>\n",
       "      <td>2016-10-16 01:11:00</td>\n",
       "      <td>2016-10-16 08:38:00</td>\n",
       "      <td>7.46</td>\n",
       "    </tr>\n",
       "    <tr>\n",
       "      <th>2016-10-16</th>\n",
       "      <td>Europe/Stockholm</td>\n",
       "      <td>2016-10-17 01:00:00</td>\n",
       "      <td>2016-10-17 08:33:00</td>\n",
       "      <td>6.43</td>\n",
       "    </tr>\n",
       "    <tr>\n",
       "      <th>2016-10-17</th>\n",
       "      <td>Europe/Stockholm</td>\n",
       "      <td>2016-10-18 00:14:00</td>\n",
       "      <td>2016-10-18 07:28:00</td>\n",
       "      <td>7.24</td>\n",
       "    </tr>\n",
       "    <tr>\n",
       "      <th>2016-10-18</th>\n",
       "      <td>Europe/Stockholm</td>\n",
       "      <td>2016-10-18 23:44:00</td>\n",
       "      <td>2016-10-19 05:54:00</td>\n",
       "      <td>6.00</td>\n",
       "    </tr>\n",
       "    <tr>\n",
       "      <th>2016-10-20</th>\n",
       "      <td>Europe/Stockholm</td>\n",
       "      <td>2016-10-20 23:44:00</td>\n",
       "      <td>2016-10-21 07:28:00</td>\n",
       "      <td>7.72</td>\n",
       "    </tr>\n",
       "    <tr>\n",
       "      <th>2016-10-21</th>\n",
       "      <td>Europe/Stockholm</td>\n",
       "      <td>2016-10-22 03:56:00</td>\n",
       "      <td>2016-10-22 11:11:00</td>\n",
       "      <td>7.26</td>\n",
       "    </tr>\n",
       "    <tr>\n",
       "      <th>2016-10-22</th>\n",
       "      <td>Europe/Stockholm</td>\n",
       "      <td>2016-10-23 00:59:00</td>\n",
       "      <td>2016-10-23 08:01:00</td>\n",
       "      <td>7.02</td>\n",
       "    </tr>\n",
       "    <tr>\n",
       "      <th>2016-10-23</th>\n",
       "      <td>Europe/Stockholm</td>\n",
       "      <td>2016-10-24 01:08:00</td>\n",
       "      <td>2016-10-24 06:54:00</td>\n",
       "      <td>5.77</td>\n",
       "    </tr>\n",
       "    <tr>\n",
       "      <th>2016-10-24</th>\n",
       "      <td>Europe/Stockholm</td>\n",
       "      <td>2016-10-25 03:03:00</td>\n",
       "      <td>2016-10-25 07:12:00</td>\n",
       "      <td>4.14</td>\n",
       "    </tr>\n",
       "    <tr>\n",
       "      <th>2016-10-25</th>\n",
       "      <td>Europe/Stockholm</td>\n",
       "      <td>2016-10-25 23:42:00</td>\n",
       "      <td>2016-10-26 07:10:00</td>\n",
       "      <td>7.45</td>\n",
       "    </tr>\n",
       "  </tbody>\n",
       "</table>\n",
       "</div>"
      ],
      "text/plain": [
       "                          tz                from                  to  hours\n",
       "date                                                                       \n",
       "2016-10-15  Europe/Stockholm 2016-10-16 01:11:00 2016-10-16 08:38:00   7.46\n",
       "2016-10-16  Europe/Stockholm 2016-10-17 01:00:00 2016-10-17 08:33:00   6.43\n",
       "2016-10-17  Europe/Stockholm 2016-10-18 00:14:00 2016-10-18 07:28:00   7.24\n",
       "2016-10-18  Europe/Stockholm 2016-10-18 23:44:00 2016-10-19 05:54:00   6.00\n",
       "2016-10-20  Europe/Stockholm 2016-10-20 23:44:00 2016-10-21 07:28:00   7.72\n",
       "2016-10-21  Europe/Stockholm 2016-10-22 03:56:00 2016-10-22 11:11:00   7.26\n",
       "2016-10-22  Europe/Stockholm 2016-10-23 00:59:00 2016-10-23 08:01:00   7.02\n",
       "2016-10-23  Europe/Stockholm 2016-10-24 01:08:00 2016-10-24 06:54:00   5.77\n",
       "2016-10-24  Europe/Stockholm 2016-10-25 03:03:00 2016-10-25 07:12:00   4.14\n",
       "2016-10-25  Europe/Stockholm 2016-10-25 23:42:00 2016-10-26 07:10:00   7.45"
      ]
     },
     "execution_count": 14,
     "metadata": {},
     "output_type": "execute_result"
    }
   ],
   "source": [
    "df.head(10)"
   ]
  },
  {
   "cell_type": "markdown",
   "metadata": {
    "collapsed": true
   },
   "source": [
    "## IV. Analyze by weekday"
   ]
  },
  {
   "cell_type": "code",
   "execution_count": 15,
   "metadata": {
    "collapsed": true
   },
   "outputs": [],
   "source": [
    "df['weekday'] = df.index.dayofweek\n",
    "df['weekday'] = df['weekday'].astype('category')"
   ]
  },
  {
   "cell_type": "code",
   "execution_count": 17,
   "metadata": {},
   "outputs": [
    {
     "data": {
      "text/html": [
       "<div>\n",
       "<style>\n",
       "    .dataframe thead tr:only-child th {\n",
       "        text-align: right;\n",
       "    }\n",
       "\n",
       "    .dataframe thead th {\n",
       "        text-align: left;\n",
       "    }\n",
       "\n",
       "    .dataframe tbody tr th {\n",
       "        vertical-align: top;\n",
       "    }\n",
       "</style>\n",
       "<table border=\"1\" class=\"dataframe\">\n",
       "  <thead>\n",
       "    <tr style=\"text-align: right;\">\n",
       "      <th></th>\n",
       "      <th>count</th>\n",
       "      <th>mean</th>\n",
       "      <th>std</th>\n",
       "      <th>min</th>\n",
       "      <th>25%</th>\n",
       "      <th>50%</th>\n",
       "      <th>75%</th>\n",
       "      <th>max</th>\n",
       "    </tr>\n",
       "    <tr>\n",
       "      <th>weekday</th>\n",
       "      <th></th>\n",
       "      <th></th>\n",
       "      <th></th>\n",
       "      <th></th>\n",
       "      <th></th>\n",
       "      <th></th>\n",
       "      <th></th>\n",
       "      <th></th>\n",
       "    </tr>\n",
       "  </thead>\n",
       "  <tbody>\n",
       "    <tr>\n",
       "      <th>0</th>\n",
       "      <td>31.0</td>\n",
       "      <td>6.928387</td>\n",
       "      <td>1.335500</td>\n",
       "      <td>2.73</td>\n",
       "      <td>6.285</td>\n",
       "      <td>7.160</td>\n",
       "      <td>7.6750</td>\n",
       "      <td>9.15</td>\n",
       "    </tr>\n",
       "    <tr>\n",
       "      <th>1</th>\n",
       "      <td>33.0</td>\n",
       "      <td>6.633636</td>\n",
       "      <td>1.315971</td>\n",
       "      <td>2.26</td>\n",
       "      <td>6.000</td>\n",
       "      <td>6.640</td>\n",
       "      <td>7.4500</td>\n",
       "      <td>8.68</td>\n",
       "    </tr>\n",
       "    <tr>\n",
       "      <th>2</th>\n",
       "      <td>28.0</td>\n",
       "      <td>7.898571</td>\n",
       "      <td>1.513560</td>\n",
       "      <td>4.47</td>\n",
       "      <td>7.060</td>\n",
       "      <td>7.765</td>\n",
       "      <td>8.6675</td>\n",
       "      <td>11.75</td>\n",
       "    </tr>\n",
       "    <tr>\n",
       "      <th>3</th>\n",
       "      <td>28.0</td>\n",
       "      <td>7.386071</td>\n",
       "      <td>2.949685</td>\n",
       "      <td>2.88</td>\n",
       "      <td>6.465</td>\n",
       "      <td>7.260</td>\n",
       "      <td>8.0950</td>\n",
       "      <td>19.50</td>\n",
       "    </tr>\n",
       "    <tr>\n",
       "      <th>4</th>\n",
       "      <td>26.0</td>\n",
       "      <td>8.795000</td>\n",
       "      <td>2.251057</td>\n",
       "      <td>3.60</td>\n",
       "      <td>7.395</td>\n",
       "      <td>8.685</td>\n",
       "      <td>9.8125</td>\n",
       "      <td>16.80</td>\n",
       "    </tr>\n",
       "    <tr>\n",
       "      <th>5</th>\n",
       "      <td>25.0</td>\n",
       "      <td>7.693200</td>\n",
       "      <td>1.000232</td>\n",
       "      <td>6.04</td>\n",
       "      <td>7.010</td>\n",
       "      <td>7.250</td>\n",
       "      <td>8.3800</td>\n",
       "      <td>10.01</td>\n",
       "    </tr>\n",
       "    <tr>\n",
       "      <th>6</th>\n",
       "      <td>36.0</td>\n",
       "      <td>6.661944</td>\n",
       "      <td>1.616647</td>\n",
       "      <td>0.42</td>\n",
       "      <td>5.930</td>\n",
       "      <td>6.685</td>\n",
       "      <td>7.4775</td>\n",
       "      <td>10.21</td>\n",
       "    </tr>\n",
       "  </tbody>\n",
       "</table>\n",
       "</div>"
      ],
      "text/plain": [
       "         count      mean       std   min    25%    50%     75%    max\n",
       "weekday                                                              \n",
       "0         31.0  6.928387  1.335500  2.73  6.285  7.160  7.6750   9.15\n",
       "1         33.0  6.633636  1.315971  2.26  6.000  6.640  7.4500   8.68\n",
       "2         28.0  7.898571  1.513560  4.47  7.060  7.765  8.6675  11.75\n",
       "3         28.0  7.386071  2.949685  2.88  6.465  7.260  8.0950  19.50\n",
       "4         26.0  8.795000  2.251057  3.60  7.395  8.685  9.8125  16.80\n",
       "5         25.0  7.693200  1.000232  6.04  7.010  7.250  8.3800  10.01\n",
       "6         36.0  6.661944  1.616647  0.42  5.930  6.685  7.4775  10.21"
      ]
     },
     "execution_count": 17,
     "metadata": {},
     "output_type": "execute_result"
    }
   ],
   "source": [
    "# Look at data, by weekday\n",
    "# Note: Monday == 0 ... Sunday == 6\n",
    "\n",
    "df.groupby('weekday')['hours'].describe()"
   ]
  },
  {
   "cell_type": "markdown",
   "metadata": {},
   "source": [
    "### Outlier alert!\n",
    "\n",
    "At this point I realize there might be some outliers! A min like 2.73 hours seems very possible, unfortunately, but a max like `19.50` hours and even `16.80` hours does not..."
   ]
  },
  {
   "cell_type": "markdown",
   "metadata": {},
   "source": [
    "---\n",
    "\n",
    "## V. Remove Outliers\n",
    "\n",
    "I'll try using the sigma clipping method outlined in Jake VanderPlas' *Python Data Science Handbook*\n"
   ]
  },
  {
   "cell_type": "code",
   "execution_count": 19,
   "metadata": {
    "collapsed": true,
    "scrolled": true
   },
   "outputs": [],
   "source": [
    "# Sigma Clip\n",
    "\n",
    "quartiles = np.percentile(df['hours'], [25, 50, 75])\n",
    "mu = quartiles[1]\n",
    "sig = 0.74 * (quartiles[2] - quartiles[0])\n",
    "\n",
    "df_clipped = df.query('(hours > @mu - 5 * @sig) & (hours < @mu + 5 * @sig)')"
   ]
  },
  {
   "cell_type": "code",
   "execution_count": 21,
   "metadata": {},
   "outputs": [
    {
     "data": {
      "text/html": [
       "<div>\n",
       "<style>\n",
       "    .dataframe thead tr:only-child th {\n",
       "        text-align: right;\n",
       "    }\n",
       "\n",
       "    .dataframe thead th {\n",
       "        text-align: left;\n",
       "    }\n",
       "\n",
       "    .dataframe tbody tr th {\n",
       "        vertical-align: top;\n",
       "    }\n",
       "</style>\n",
       "<table border=\"1\" class=\"dataframe\">\n",
       "  <thead>\n",
       "    <tr style=\"text-align: right;\">\n",
       "      <th></th>\n",
       "      <th>count</th>\n",
       "      <th>mean</th>\n",
       "      <th>std</th>\n",
       "      <th>min</th>\n",
       "      <th>25%</th>\n",
       "      <th>50%</th>\n",
       "      <th>75%</th>\n",
       "      <th>max</th>\n",
       "    </tr>\n",
       "    <tr>\n",
       "      <th>weekday</th>\n",
       "      <th></th>\n",
       "      <th></th>\n",
       "      <th></th>\n",
       "      <th></th>\n",
       "      <th></th>\n",
       "      <th></th>\n",
       "      <th></th>\n",
       "      <th></th>\n",
       "    </tr>\n",
       "  </thead>\n",
       "  <tbody>\n",
       "    <tr>\n",
       "      <th>0</th>\n",
       "      <td>31.0</td>\n",
       "      <td>6.928387</td>\n",
       "      <td>1.335500</td>\n",
       "      <td>2.73</td>\n",
       "      <td>6.285</td>\n",
       "      <td>7.160</td>\n",
       "      <td>7.6750</td>\n",
       "      <td>9.15</td>\n",
       "    </tr>\n",
       "    <tr>\n",
       "      <th>1</th>\n",
       "      <td>33.0</td>\n",
       "      <td>6.633636</td>\n",
       "      <td>1.315971</td>\n",
       "      <td>2.26</td>\n",
       "      <td>6.000</td>\n",
       "      <td>6.640</td>\n",
       "      <td>7.4500</td>\n",
       "      <td>8.68</td>\n",
       "    </tr>\n",
       "    <tr>\n",
       "      <th>2</th>\n",
       "      <td>28.0</td>\n",
       "      <td>7.898571</td>\n",
       "      <td>1.513560</td>\n",
       "      <td>4.47</td>\n",
       "      <td>7.060</td>\n",
       "      <td>7.765</td>\n",
       "      <td>8.6675</td>\n",
       "      <td>11.75</td>\n",
       "    </tr>\n",
       "    <tr>\n",
       "      <th>3</th>\n",
       "      <td>27.0</td>\n",
       "      <td>6.937407</td>\n",
       "      <td>1.783848</td>\n",
       "      <td>2.88</td>\n",
       "      <td>6.380</td>\n",
       "      <td>7.030</td>\n",
       "      <td>8.0400</td>\n",
       "      <td>9.92</td>\n",
       "    </tr>\n",
       "    <tr>\n",
       "      <th>4</th>\n",
       "      <td>25.0</td>\n",
       "      <td>8.474800</td>\n",
       "      <td>1.581642</td>\n",
       "      <td>3.60</td>\n",
       "      <td>7.360</td>\n",
       "      <td>8.650</td>\n",
       "      <td>9.7000</td>\n",
       "      <td>11.61</td>\n",
       "    </tr>\n",
       "    <tr>\n",
       "      <th>5</th>\n",
       "      <td>25.0</td>\n",
       "      <td>7.693200</td>\n",
       "      <td>1.000232</td>\n",
       "      <td>6.04</td>\n",
       "      <td>7.010</td>\n",
       "      <td>7.250</td>\n",
       "      <td>8.3800</td>\n",
       "      <td>10.01</td>\n",
       "    </tr>\n",
       "    <tr>\n",
       "      <th>6</th>\n",
       "      <td>35.0</td>\n",
       "      <td>6.840286</td>\n",
       "      <td>1.229528</td>\n",
       "      <td>4.39</td>\n",
       "      <td>6.185</td>\n",
       "      <td>6.730</td>\n",
       "      <td>7.5450</td>\n",
       "      <td>10.21</td>\n",
       "    </tr>\n",
       "  </tbody>\n",
       "</table>\n",
       "</div>"
      ],
      "text/plain": [
       "         count      mean       std   min    25%    50%     75%    max\n",
       "weekday                                                              \n",
       "0         31.0  6.928387  1.335500  2.73  6.285  7.160  7.6750   9.15\n",
       "1         33.0  6.633636  1.315971  2.26  6.000  6.640  7.4500   8.68\n",
       "2         28.0  7.898571  1.513560  4.47  7.060  7.765  8.6675  11.75\n",
       "3         27.0  6.937407  1.783848  2.88  6.380  7.030  8.0400   9.92\n",
       "4         25.0  8.474800  1.581642  3.60  7.360  8.650  9.7000  11.61\n",
       "5         25.0  7.693200  1.000232  6.04  7.010  7.250  8.3800  10.01\n",
       "6         35.0  6.840286  1.229528  4.39  6.185  6.730  7.5450  10.21"
      ]
     },
     "execution_count": 21,
     "metadata": {},
     "output_type": "execute_result"
    }
   ],
   "source": [
    "# Describe the new data\n",
    "\n",
    "df_clipped.groupby('weekday')['hours'].describe()"
   ]
  },
  {
   "cell_type": "markdown",
   "metadata": {},
   "source": [
    "Hey, that's better! The stats spoke for themselves, and the sigma clip correctly removed the major outliers on the top (19.5 and 16.8) while leaving the lower values, which I suspected were not actually that unusual for me."
   ]
  },
  {
   "cell_type": "code",
   "execution_count": 22,
   "metadata": {
    "collapsed": true
   },
   "outputs": [],
   "source": [
    "## IV. Analyze by weekday"
   ]
  },
  {
   "cell_type": "code",
   "execution_count": 23,
   "metadata": {},
   "outputs": [
    {
     "data": {
      "text/plain": [
       "<matplotlib.axes._subplots.AxesSubplot at 0x1173a6ef0>"
      ]
     },
     "execution_count": 23,
     "metadata": {},
     "output_type": "execute_result"
    },
    {
     "data": {
      "image/png": "[encoded data removed]",
      "text/plain": [
       "<matplotlib.figure.Figure at 0x1173efe80>"
      ]
     },
     "metadata": {},
     "output_type": "display_data"
    }
   ],
   "source": [
    "%matplotlib inline\n",
    "# col = ['Mon','Tue','Wed','Thu','Fri','Sat','Sun']\n",
    "df_clipped.boxplot(by='weekday')"
   ]
  },
  {
   "cell_type": "code",
   "execution_count": 25,
   "metadata": {},
   "outputs": [
    {
     "data": {
      "text/plain": [
       "<matplotlib.axes._subplots.AxesSubplot at 0x11af9f358>"
      ]
     },
     "execution_count": 25,
     "metadata": {},
     "output_type": "execute_result"
    },
    {
     "data": {
      "image/png": "[encoded data removed]",
      "text/plain": [
       "<matplotlib.figure.Figure at 0x11ae81fd0>"
      ]
     },
     "metadata": {},
     "output_type": "display_data"
    }
   ],
   "source": [
    "sns.violinplot(x=df_clipped.weekday, y=df_clipped.hours)"
   ]
  },
  {
   "cell_type": "markdown",
   "metadata": {},
   "source": [
    "School vs. Home, by weekday"
   ]
  },
  {
   "cell_type": "code",
   "execution_count": null,
   "metadata": {
    "collapsed": true
   },
   "outputs": [],
   "source": []
  }
 ],
 "metadata": {
  "kernelspec": {
   "display_name": "Python 3",
   "language": "python",
   "name": "python3"
  },
  "language_info": {
   "codemirror_mode": {
    "name": "ipython",
    "version": 3
   },
   "file_extension": ".py",
   "mimetype": "text/x-python",
   "name": "python",
   "nbconvert_exporter": "python",
   "pygments_lexer": "ipython3",
   "version": "3.6.1"
  }
 },
 "nbformat": 4,
 "nbformat_minor": 2
}
